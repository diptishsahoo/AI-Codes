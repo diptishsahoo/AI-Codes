{
  "nbformat": 4,
  "nbformat_minor": 0,
  "metadata": {
    "colab": {
      "provenance": [],
      "authorship_tag": "ABX9TyM7LsmYRmaYWvH8NKrB6eHq",
      "include_colab_link": true
    },
    "kernelspec": {
      "name": "python3",
      "display_name": "Python 3"
    },
    "language_info": {
      "name": "python"
    }
  },
  "cells": [
    {
      "cell_type": "markdown",
      "metadata": {
        "id": "view-in-github",
        "colab_type": "text"
      },
      "source": [
        "<a href=\"https://colab.research.google.com/github/diptishsahoo/AI-Codes/blob/main/Question_2.ipynb\" target=\"_parent\"><img src=\"https://colab.research.google.com/assets/colab-badge.svg\" alt=\"Open In Colab\"/></a>"
      ]
    },
    {
      "cell_type": "code",
      "execution_count": null,
      "metadata": {
        "id": "uzihY1n236rw"
      },
      "outputs": [],
      "source": [
        "import random\n",
        "\n",
        "items = [\n",
        "    {\"name\": \"Sleeping Bag\", \"weight\": 30, \"value\": 20, \"penalty\": 0},\n",
        "    {\"name\": \"Rope\", \"weight\": 10, \"value\": 10, \"penalty\": 0},\n",
        "    {\"name\": \"Bottle\", \"weight\": 5, \"value\": 20, \"penalty\": 0},\n",
        "    {\"name\": \"Torch+Battery\", \"weight\": 15, \"value\": 25, \"penalty\": -20},\n",
        "    {\"name\": \"Glucose\", \"weight\": 5, \"value\": 30, \"penalty\": 0},\n",
        "    {\"name\": \"Pocket Knife\", \"weight\": 10, \"value\": 15, \"penalty\": -10},\n",
        "    {\"name\": \"Umbrella\", \"weight\": 20, \"value\": 10, \"penalty\": 0},\n",
        "]\n",
        "\n",
        "MAX_WEIGHT = 40"
      ]
    },
    {
      "cell_type": "code",
      "source": [
        "# Evaluate function: returns survival score for a chromosome\n",
        "def evaluate(chrom):\n",
        "    total_weight = sum(g * it[\"weight\"] for g, it in zip(chrom, items))\n",
        "    total_value = sum(g * it[\"value\"] for g, it in zip(chrom, items))\n",
        "    total_penalty = sum((1 - g) * it[\"penalty\"] for g, it in zip(chrom, items))\n",
        "    score = total_value + total_penalty\n",
        "    if total_weight > MAX_WEIGHT:   # overweight penalty\n",
        "        score -= 10000 * (total_weight - MAX_WEIGHT)\n",
        "    return score, total_value, total_penalty, total_weight"
      ],
      "metadata": {
        "id": "pClFp9sw4GI2"
      },
      "execution_count": null,
      "outputs": []
    },
    {
      "cell_type": "code",
      "source": [
        "# Brute force (exact search for small n)\n",
        "def brute_force_best():\n",
        "    n = len(items)\n",
        "    best_score = None\n",
        "    best_solution = None\n",
        "    for mask in range(1 << n):\n",
        "        chrom = [(mask >> i) & 1 for i in range(n)]\n",
        "        score, val, pen, wt = evaluate(chrom)\n",
        "        if wt <= MAX_WEIGHT:\n",
        "            if best_score is None or score > best_score:\n",
        "                best_score = score\n",
        "                best_solution = (chrom, val, pen, wt)\n",
        "    return best_score, best_solution\n"
      ],
      "metadata": {
        "id": "agij0PJG4PkO"
      },
      "execution_count": null,
      "outputs": []
    },
    {
      "cell_type": "code",
      "source": [
        "# Run brute force\n",
        "best_score, (chrom, val, pen, wt) = brute_force_best()\n",
        "print(\"Optimal Solution Found by Brute Force:\")\n",
        "print(\" Chromosome:\", chrom)\n",
        "print(\" Items Taken:\", [it['name'] for g,it in zip(chrom, items) if g==1])\n",
        "print(\" Total Value:\", val, \"Penalty:\", pen, \"Weight:\", wt)\n",
        "print(\" Survival Score:\", best_score)"
      ],
      "metadata": {
        "colab": {
          "base_uri": "https://localhost:8080/"
        },
        "id": "XBv46vlU4Spm",
        "outputId": "776fba18-1d61-48d5-efab-ff8a134c1d7d"
      },
      "execution_count": null,
      "outputs": [
        {
          "output_type": "stream",
          "name": "stdout",
          "text": [
            "Optimal Solution Found by Brute Force:\n",
            " Chromosome: [0, 0, 1, 1, 1, 1, 0]\n",
            " Items Taken: ['Bottle', 'Torch+Battery', 'Glucose', 'Pocket Knife']\n",
            " Total Value: 90 Penalty: 0 Weight: 35\n",
            " Survival Score: 90\n"
          ]
        }
      ]
    }
  ]
}